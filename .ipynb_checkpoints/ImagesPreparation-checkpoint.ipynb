{
 "cells": [
  {
   "cell_type": "code",
   "execution_count": 5,
   "id": "8aa3d93f",
   "metadata": {},
   "outputs": [],
   "source": [
    "import os\n",
    "import cv2\n",
    "from PIL import Image"
   ]
  },
  {
   "cell_type": "code",
   "execution_count": 12,
   "id": "523943c6",
   "metadata": {},
   "outputs": [],
   "source": [
    "# specify the input and output directories\n",
    "input_dir = 'D:\\EducationalStuff\\MastersDS\\HisThesis\\AllDataSets\\CustomizedData\\CycleImages'\n",
    "output_dir = 'D:\\EducationalStuff\\MastersDS\\HisThesis\\AllDataSets\\CustomizedData\\FormatedCycleImages'\n",
    "\n",
    "\n",
    "# iterate over all files in the input directory\n",
    "for filename in os.listdir(input_dir):\n",
    "    if filename.endswith('.tif'):\n",
    "        # load the image and convert it to RGB format\n",
    "        image = Image.open(os.path.join(input_dir, filename)).convert('RGB')\n",
    "               \n",
    "        # save the cropped image in JPEG format to the output directory\n",
    "        output_filename = os.path.splitext(filename)[0] + '.jpg'\n",
    "        image.save(os.path.join(output_dir, output_filename), 'JPEG')\n",
    "    else:\n",
    "        print(\"no\")\n"
   ]
  }
 ],
 "metadata": {
  "kernelspec": {
   "display_name": "hisThesisEnv",
   "language": "python",
   "name": "histhesisenv"
  },
  "language_info": {
   "codemirror_mode": {
    "name": "ipython",
    "version": 3
   },
   "file_extension": ".py",
   "mimetype": "text/x-python",
   "name": "python",
   "nbconvert_exporter": "python",
   "pygments_lexer": "ipython3",
   "version": "3.11.2"
  }
 },
 "nbformat": 4,
 "nbformat_minor": 5
}
